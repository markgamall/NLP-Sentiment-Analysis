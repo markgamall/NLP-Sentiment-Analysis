{
  "nbformat": 4,
  "nbformat_minor": 0,
  "metadata": {
    "colab": {
      "provenance": []
    },
    "kernelspec": {
      "name": "python3",
      "display_name": "Python 3"
    },
    "language_info": {
      "name": "python"
    }
  },
  "cells": [
    {
      "cell_type": "markdown",
      "source": [
        "# Import Libraries & Data (review_polarity)"
      ],
      "metadata": {
        "id": "RJ0IqFT92_Qn"
      }
    },
    {
      "cell_type": "code",
      "execution_count": 1,
      "metadata": {
        "colab": {
          "base_uri": "https://localhost:8080/"
        },
        "id": "ERXngm8yelMZ",
        "outputId": "82c964fd-cc60-46dc-b1d7-a79b1cc3909b"
      },
      "outputs": [
        {
          "output_type": "stream",
          "name": "stdout",
          "text": [
            "Mounted at /content/drive\n"
          ]
        }
      ],
      "source": [
        "from google.colab import drive\n",
        "drive.mount('/content/drive')"
      ]
    },
    {
      "cell_type": "code",
      "source": [
        "!pip install contractions"
      ],
      "metadata": {
        "colab": {
          "base_uri": "https://localhost:8080/"
        },
        "id": "FZ7MnTV1h_bA",
        "outputId": "0a8e11ed-7c30-4214-c4f9-eba669d7b25c"
      },
      "execution_count": 3,
      "outputs": [
        {
          "output_type": "stream",
          "name": "stdout",
          "text": [
            "Collecting contractions\n",
            "  Downloading contractions-0.1.73-py2.py3-none-any.whl.metadata (1.2 kB)\n",
            "Collecting textsearch>=0.0.21 (from contractions)\n",
            "  Downloading textsearch-0.0.24-py2.py3-none-any.whl.metadata (1.2 kB)\n",
            "Collecting anyascii (from textsearch>=0.0.21->contractions)\n",
            "  Downloading anyascii-0.3.2-py3-none-any.whl.metadata (1.5 kB)\n",
            "Collecting pyahocorasick (from textsearch>=0.0.21->contractions)\n",
            "  Downloading pyahocorasick-2.1.0-cp311-cp311-manylinux_2_17_x86_64.manylinux2014_x86_64.whl.metadata (13 kB)\n",
            "Downloading contractions-0.1.73-py2.py3-none-any.whl (8.7 kB)\n",
            "Downloading textsearch-0.0.24-py2.py3-none-any.whl (7.6 kB)\n",
            "Downloading anyascii-0.3.2-py3-none-any.whl (289 kB)\n",
            "\u001b[2K   \u001b[90m━━━━━━━━━━━━━━━━━━━━━━━━━━━━━━━━━━━━━━━━\u001b[0m \u001b[32m289.9/289.9 kB\u001b[0m \u001b[31m5.8 MB/s\u001b[0m eta \u001b[36m0:00:00\u001b[0m\n",
            "\u001b[?25hDownloading pyahocorasick-2.1.0-cp311-cp311-manylinux_2_17_x86_64.manylinux2014_x86_64.whl (118 kB)\n",
            "\u001b[2K   \u001b[90m━━━━━━━━━━━━━━━━━━━━━━━━━━━━━━━━━━━━━━━━\u001b[0m \u001b[32m118.3/118.3 kB\u001b[0m \u001b[31m8.6 MB/s\u001b[0m eta \u001b[36m0:00:00\u001b[0m\n",
            "\u001b[?25hInstalling collected packages: pyahocorasick, anyascii, textsearch, contractions\n",
            "Successfully installed anyascii-0.3.2 contractions-0.1.73 pyahocorasick-2.1.0 textsearch-0.0.24\n"
          ]
        }
      ]
    },
    {
      "cell_type": "code",
      "source": [
        "!pip install tqdm pandas nltk pyspellchecker emoji"
      ],
      "metadata": {
        "id": "q_AD_WL1e-xr",
        "outputId": "1697cb7d-b47c-45e7-9d03-55b3d58f583a",
        "colab": {
          "base_uri": "https://localhost:8080/"
        }
      },
      "execution_count": 4,
      "outputs": [
        {
          "output_type": "stream",
          "name": "stdout",
          "text": [
            "Requirement already satisfied: tqdm in /usr/local/lib/python3.11/dist-packages (4.67.1)\n",
            "Requirement already satisfied: pandas in /usr/local/lib/python3.11/dist-packages (2.2.2)\n",
            "Requirement already satisfied: nltk in /usr/local/lib/python3.11/dist-packages (3.9.1)\n",
            "Collecting pyspellchecker\n",
            "  Downloading pyspellchecker-0.8.2-py3-none-any.whl.metadata (9.4 kB)\n",
            "Collecting emoji\n",
            "  Downloading emoji-2.14.1-py3-none-any.whl.metadata (5.7 kB)\n",
            "Requirement already satisfied: numpy>=1.23.2 in /usr/local/lib/python3.11/dist-packages (from pandas) (2.0.2)\n",
            "Requirement already satisfied: python-dateutil>=2.8.2 in /usr/local/lib/python3.11/dist-packages (from pandas) (2.9.0.post0)\n",
            "Requirement already satisfied: pytz>=2020.1 in /usr/local/lib/python3.11/dist-packages (from pandas) (2025.2)\n",
            "Requirement already satisfied: tzdata>=2022.7 in /usr/local/lib/python3.11/dist-packages (from pandas) (2025.2)\n",
            "Requirement already satisfied: click in /usr/local/lib/python3.11/dist-packages (from nltk) (8.1.8)\n",
            "Requirement already satisfied: joblib in /usr/local/lib/python3.11/dist-packages (from nltk) (1.4.2)\n",
            "Requirement already satisfied: regex>=2021.8.3 in /usr/local/lib/python3.11/dist-packages (from nltk) (2024.11.6)\n",
            "Requirement already satisfied: six>=1.5 in /usr/local/lib/python3.11/dist-packages (from python-dateutil>=2.8.2->pandas) (1.17.0)\n",
            "Downloading pyspellchecker-0.8.2-py3-none-any.whl (7.1 MB)\n",
            "\u001b[2K   \u001b[90m━━━━━━━━━━━━━━━━━━━━━━━━━━━━━━━━━━━━━━━━\u001b[0m \u001b[32m7.1/7.1 MB\u001b[0m \u001b[31m28.4 MB/s\u001b[0m eta \u001b[36m0:00:00\u001b[0m\n",
            "\u001b[?25hDownloading emoji-2.14.1-py3-none-any.whl (590 kB)\n",
            "\u001b[2K   \u001b[90m━━━━━━━━━━━━━━━━━━━━━━━━━━━━━━━━━━━━━━━━\u001b[0m \u001b[32m590.6/590.6 kB\u001b[0m \u001b[31m23.5 MB/s\u001b[0m eta \u001b[36m0:00:00\u001b[0m\n",
            "\u001b[?25hInstalling collected packages: pyspellchecker, emoji\n",
            "Successfully installed emoji-2.14.1 pyspellchecker-0.8.2\n"
          ]
        }
      ]
    },
    {
      "cell_type": "code",
      "source": [
        "from tqdm import tqdm\n",
        "import os\n",
        "import pandas as pd\n",
        "import nltk\n",
        "from nltk.corpus import stopwords, wordnet\n",
        "from nltk.stem import WordNetLemmatizer\n",
        "from nltk import pos_tag, word_tokenize\n",
        "import string\n",
        "import re\n",
        "from spellchecker import SpellChecker\n",
        "import emoji\n",
        "from sklearn.feature_extraction.text import CountVectorizer, TfidfVectorizer\n",
        "import matplotlib.pyplot as plt\n",
        "import seaborn as sns\n",
        "from wordcloud import WordCloud\n",
        "from sklearn.naive_bayes import MultinomialNB\n",
        "from sklearn.metrics import classification_report,accuracy_score\n",
        "from sklearn.linear_model import LogisticRegression\n",
        "from sklearn.ensemble import RandomForestClassifier\n",
        "from sklearn.tree import DecisionTreeClassifier\n",
        "from scipy.sparse import hstack\n",
        "import contractions\n",
        "from sklearn.model_selection import train_test_split, GridSearchCV\n",
        "from sklearn.svm import LinearSVC"
      ],
      "metadata": {
        "id": "jmxTxTOVe3Ye"
      },
      "execution_count": 14,
      "outputs": []
    },
    {
      "cell_type": "code",
      "source": [
        "base_path = '/content/drive/MyDrive/txt_sentoken'\n",
        "neg_path = os.path.join(base_path, 'neg')\n",
        "pos_path = os.path.join(base_path, 'pos')\n",
        "\n",
        "neg_reviews = []\n",
        "for file in os.listdir(neg_path):\n",
        "    with open(os.path.join(neg_path, file), 'r', encoding='utf-8') as f:\n",
        "        neg_reviews.append(f.read())\n",
        "\n",
        "pos_reviews = []\n",
        "for file in os.listdir(pos_path):\n",
        "    with open(os.path.join(pos_path, file), 'r', encoding='utf-8') as f:\n",
        "        pos_reviews.append(f.read())\n",
        "\n",
        "df_txt_sentoken = pd.DataFrame({\n",
        "    'text': neg_reviews + pos_reviews,\n",
        "    'label': [0]*len(neg_reviews) + [1]*len(pos_reviews)\n",
        "})\n",
        "\n",
        "print(df_txt_sentoken.head())\n",
        "print(df_txt_sentoken['label'].value_counts())"
      ],
      "metadata": {
        "colab": {
          "base_uri": "https://localhost:8080/"
        },
        "id": "a3D5igHqfPHN",
        "outputId": "8c49eab3-e111-4c9f-d496-6896a2c56b39"
      },
      "execution_count": 6,
      "outputs": [
        {
          "output_type": "stream",
          "name": "stdout",
          "text": [
            "                                                text  label\n",
            "0  plot : two teen couples go to a church party ,...      0\n",
            "1  the happy bastard's quick movie review \\ndamn ...      0\n",
            "2  it is movies like these that make a jaded movi...      0\n",
            "3   \" quest for camelot \" is warner bros . ' firs...      0\n",
            "4  synopsis : a mentally unstable man undergoing ...      0\n",
            "label\n",
            "0    1000\n",
            "1    1000\n",
            "Name: count, dtype: int64\n"
          ]
        }
      ]
    },
    {
      "cell_type": "markdown",
      "source": [
        "# Preprocessing"
      ],
      "metadata": {
        "id": "hyjR8hTDtUX2"
      }
    },
    {
      "cell_type": "code",
      "source": [
        "import nltk\n",
        "from nltk.corpus import stopwords, wordnet\n",
        "from nltk.stem import WordNetLemmatizer\n",
        "from nltk import pos_tag, word_tokenize\n",
        "import string\n",
        "import re\n",
        "from spellchecker import SpellChecker\n",
        "import emoji\n",
        "\n",
        "nltk.download('punkt_tab')\n",
        "nltk.download('punkt')\n",
        "nltk.download('wordnet')\n",
        "nltk.download('averaged_perceptron_tagger_eng')\n",
        "nltk.download('stopwords')\n",
        "\n",
        "stop_words = set(stopwords.words('english'))\n",
        "lemmatizer = WordNetLemmatizer()\n",
        "spell = SpellChecker()\n",
        "\n",
        "slang_dict = {\n",
        "    \"gr8\": \"great\",\n",
        "    \"luv\": \"love\",\n",
        "    \"bff\": \"best friend\",\n",
        "    \"omg\": \"oh my god\",\n",
        "    \"ttyl\": \"talk to you later\",\n",
        "    \"brb\": \"be right back\",\n",
        "    \"idk\": \"i don't know\",\n",
        "    \"smh\": \"shaking my head\"\n",
        "}\n",
        "\n",
        "def get_wordnet_pos(word):\n",
        "    tag = pos_tag([word])[0][1][0].upper()\n",
        "    tag_dict = {\n",
        "        'J': wordnet.ADJ,\n",
        "        'N': wordnet.NOUN,\n",
        "        'V': wordnet.VERB,\n",
        "        'R': wordnet.ADV\n",
        "    }\n",
        "    return tag_dict.get(tag, wordnet.NOUN)  # Default to noun if unknown\n",
        "\n",
        "def handle_negations(text):\n",
        "    negations = [\"not\", \"no\", \"never\", \"none\", \"n't\"]\n",
        "    words = text.split()\n",
        "    for i, word in enumerate(words):\n",
        "        if word in negations and i + 1 < len(words):\n",
        "            words[i + 1] = f\"not_{words[i + 1]}\"  # Prefix with 'not_'\n",
        "    return \" \".join(words)\n",
        "\n",
        "def handle_emojis(text):\n",
        "    return emoji.demojize(text)\n",
        "\n",
        "def correct_spelling(text):\n",
        "    words = text.split()\n",
        "    corrected_words = []\n",
        "    for word in words:\n",
        "        # If the word is not in the stopwords list, correct the spelling\n",
        "        if word not in stop_words:\n",
        "            corrected_word = spell.correction(word)\n",
        "            if corrected_word is not None:\n",
        "                corrected_words.append(corrected_word)\n",
        "            else:\n",
        "                corrected_words.append(word)  # If no correction found, keep the word as is\n",
        "        else:\n",
        "            corrected_words.append(word)\n",
        "    return \" \".join(corrected_words)\n",
        "\n",
        "def handle_slang(text):\n",
        "    words = text.split()\n",
        "    return \" \".join([slang_dict.get(word, word) for word in words])\n",
        "\n",
        "def preprocess_text(text):\n",
        "    # 1. Lowercase\n",
        "    text = text.lower()\n",
        "\n",
        "    # 2. Remove HTML Tags\n",
        "    text = re.sub(r'<.*?>', '', text)\n",
        "\n",
        "    # 3. Remove punctuation\n",
        "    text = text.translate(str.maketrans('', '', string.punctuation))\n",
        "\n",
        "    # 4. Remove numbers\n",
        "    text = re.sub(r'\\d+', '', text)\n",
        "\n",
        "    # 5. Handle Emojis\n",
        "    text = handle_emojis(text)\n",
        "\n",
        "    # 6. Handle Negations\n",
        "    text = handle_negations(text)\n",
        "\n",
        "    # 7. Correct spelling\n",
        "    #text = correct_spelling(text)\n",
        "\n",
        "    # 8. Remove extra spaces\n",
        "    text = re.sub(r'\\s+', ' ', text).strip()\n",
        "\n",
        "    # 9. Remove Hashtags and Mentions (for social media data)\n",
        "    text = re.sub(r'@\\w+|#\\w+', '', text)  # Removes mentions and hashtags\n",
        "\n",
        "    # 10. Handle Slang\n",
        "    text = handle_slang(text)\n",
        "\n",
        "    # 11. Tokenize\n",
        "    tokens = word_tokenize(text)\n",
        "\n",
        "    # 12. Remove stopwords\n",
        "    tokens = [word for word in tokens if word not in stop_words]\n",
        "\n",
        "    # 13. Lemmatization with correct POS tag\n",
        "    tokens = [lemmatizer.lemmatize(word, get_wordnet_pos(word)) for word in tokens]\n",
        "\n",
        "    return ' '.join(tokens)\n",
        "\n",
        "from tqdm import tqdm\n",
        "\n",
        "tqdm.pandas()\n",
        "\n",
        "# Apply the preprocessing\n",
        "df_txt_sentoken['clean_text'] = df_txt_sentoken['clean_text'].progress_apply(preprocess_text)\n",
        "\n",
        "final_df = df_txt_sentoken[['clean_text', 'label']]\n",
        "\n",
        "print(final_df.head())"
      ],
      "metadata": {
        "colab": {
          "base_uri": "https://localhost:8080/"
        },
        "id": "mw1ECcILO8mH",
        "outputId": "4584aba3-667e-4bb6-f5c6-dd6dd222ec13"
      },
      "execution_count": 26,
      "outputs": [
        {
          "output_type": "stream",
          "name": "stderr",
          "text": [
            "[nltk_data] Downloading package punkt_tab to /root/nltk_data...\n",
            "[nltk_data]   Unzipping tokenizers/punkt_tab.zip.\n",
            "[nltk_data] Downloading package punkt to /root/nltk_data...\n",
            "[nltk_data]   Package punkt is already up-to-date!\n",
            "[nltk_data] Downloading package wordnet to /root/nltk_data...\n",
            "[nltk_data]   Package wordnet is already up-to-date!\n",
            "[nltk_data] Downloading package averaged_perceptron_tagger_eng to\n",
            "[nltk_data]     /root/nltk_data...\n",
            "[nltk_data]   Package averaged_perceptron_tagger_eng is already up-to-\n",
            "[nltk_data]       date!\n",
            "[nltk_data] Downloading package stopwords to /root/nltk_data...\n",
            "[nltk_data]   Package stopwords is already up-to-date!\n",
            "100%|██████████| 2000/2000 [01:10<00:00, 28.20it/s]"
          ]
        },
        {
          "output_type": "stream",
          "name": "stdout",
          "text": [
            "                                          clean_text  label\n",
            "0  plot two teen couple go church party drink dri...      0\n",
            "1  happy bastard quick movie review damn yk bug g...      0\n",
            "2  movie like make jade movie viewer thankful inv...      0\n",
            "3  quest camelot warner bros first featurelength ...      0\n",
            "4  synopsis mentally unstable man undergo psychot...      0\n"
          ]
        },
        {
          "output_type": "stream",
          "name": "stderr",
          "text": [
            "\n"
          ]
        }
      ]
    },
    {
      "cell_type": "code",
      "source": [
        "final_df.shape"
      ],
      "metadata": {
        "colab": {
          "base_uri": "https://localhost:8080/"
        },
        "id": "gP7_RtongGrr",
        "outputId": "83798616-a80a-497c-9e76-b88762bd3bda"
      },
      "execution_count": 27,
      "outputs": [
        {
          "output_type": "execute_result",
          "data": {
            "text/plain": [
              "(2000, 2)"
            ]
          },
          "metadata": {},
          "execution_count": 27
        }
      ]
    },
    {
      "cell_type": "markdown",
      "source": [
        "# Feature Extraction"
      ],
      "metadata": {
        "id": "7uZ7Wm7u3OCK"
      }
    },
    {
      "cell_type": "code",
      "source": [
        "# TF-IDF Vectorization (Unigrams + Bigrams)\n",
        "tfidf = TfidfVectorizer(min_df=5, max_features=10000, ngram_range=(1, 2))\n",
        "X_tfidf = tfidf.fit_transform(final_df['clean_text'])\n",
        "y = final_df['label']\n",
        "\n",
        "# Train/test split with stratification\n",
        "X_train, X_test, y_train, y_test = train_test_split(\n",
        "    X_tfidf, y, test_size=0.2, random_state=42, stratify=y\n",
        ")"
      ],
      "metadata": {
        "id": "A29wzPrpstQR"
      },
      "execution_count": 28,
      "outputs": []
    },
    {
      "cell_type": "markdown",
      "source": [
        "# Model"
      ],
      "metadata": {
        "id": "TCZvsy7E3Qyg"
      }
    },
    {
      "cell_type": "code",
      "source": [
        "# ==========================\n",
        "# Logistic Regression\n",
        "# ==========================\n",
        "param_grid = {'C': [0.01, 0.1, 1, 10]}\n",
        "grid = GridSearchCV(LogisticRegression(max_iter=1000), param_grid, cv=5, scoring='accuracy')\n",
        "grid.fit(X_train, y_train)\n",
        "print(\"Best Logistic Regression (GridSearchCV) Accuracy:\", grid.score(X_test, y_test))"
      ],
      "metadata": {
        "colab": {
          "base_uri": "https://localhost:8080/"
        },
        "id": "wQn1WIv5sxv_",
        "outputId": "b56a012b-ba9f-4d40-c228-1906f03ed0a5"
      },
      "execution_count": 29,
      "outputs": [
        {
          "output_type": "stream",
          "name": "stdout",
          "text": [
            "Best Logistic Regression (GridSearchCV) Accuracy: 0.8475\n"
          ]
        }
      ]
    },
    {
      "cell_type": "code",
      "source": [
        "# ==========================\n",
        "# LinearSVC\n",
        "# ==========================\n",
        "svc = LinearSVC()\n",
        "svc.fit(X_train, y_train)\n",
        "y_pred_svc = svc.predict(X_test)\n",
        "print(\"LinearSVC Accuracy:\", accuracy_score(y_test, y_pred_svc))\n",
        "print(\"Classification Report:\\n\", classification_report(y_test, y_pred_svc))\n",
        "\n",
        "# ==========================\n",
        "# Random Forest\n",
        "# ==========================\n",
        "rf = RandomForestClassifier(n_estimators=100, random_state=42)\n",
        "rf.fit(X_train, y_train)\n",
        "y_pred_rf = rf.predict(X_test)\n",
        "print(\"Random Forest Accuracy:\", accuracy_score(y_test, y_pred_rf))\n",
        "print(\"Classification Report:\\n\", classification_report(y_test, y_pred_rf))"
      ],
      "metadata": {
        "colab": {
          "base_uri": "https://localhost:8080/"
        },
        "id": "_TTL961Wyqm_",
        "outputId": "035130af-f1b3-44bc-d642-7a7f3b52fac2"
      },
      "execution_count": 30,
      "outputs": [
        {
          "output_type": "stream",
          "name": "stdout",
          "text": [
            "LinearSVC Accuracy: 0.84\n",
            "Classification Report:\n",
            "               precision    recall  f1-score   support\n",
            "\n",
            "           0       0.86      0.81      0.84       200\n",
            "           1       0.82      0.87      0.84       200\n",
            "\n",
            "    accuracy                           0.84       400\n",
            "   macro avg       0.84      0.84      0.84       400\n",
            "weighted avg       0.84      0.84      0.84       400\n",
            "\n",
            "Random Forest Accuracy: 0.8325\n",
            "Classification Report:\n",
            "               precision    recall  f1-score   support\n",
            "\n",
            "           0       0.81      0.86      0.84       200\n",
            "           1       0.86      0.80      0.83       200\n",
            "\n",
            "    accuracy                           0.83       400\n",
            "   macro avg       0.83      0.83      0.83       400\n",
            "weighted avg       0.83      0.83      0.83       400\n",
            "\n"
          ]
        }
      ]
    },
    {
      "cell_type": "code",
      "source": [
        "# ==========================\n",
        "# Ensemble Learning\n",
        "# ==========================\n",
        "from sklearn.ensemble import VotingClassifier\n",
        "\n",
        "ensemble = VotingClassifier(estimators=[\n",
        "    ('lr', LogisticRegression(max_iter=1000)),\n",
        "    ('nb', MultinomialNB()),\n",
        "    ('rf', RandomForestClassifier())\n",
        "], voting='soft')  # Use 'hard' or 'soft'\n",
        "\n",
        "ensemble.fit(X_train, y_train)\n",
        "preds = ensemble.predict(X_test)\n",
        "print(\"Ensemble Accuracy:\", accuracy_score(y_test, preds))"
      ],
      "metadata": {
        "colab": {
          "base_uri": "https://localhost:8080/"
        },
        "id": "C3O8r8l9zQW5",
        "outputId": "c52c3eda-07e6-4836-e247-176907370e3c"
      },
      "execution_count": 31,
      "outputs": [
        {
          "output_type": "stream",
          "name": "stdout",
          "text": [
            "Ensemble Accuracy: 0.85\n"
          ]
        }
      ]
    },
    {
      "cell_type": "code",
      "source": [
        "import joblib\n",
        "\n",
        "# Save the trained ensemble model\n",
        "joblib.dump(ensemble, 'ensemble_model.pkl')\n",
        "\n",
        "print(\"Model saved successfully!\")"
      ],
      "metadata": {
        "colab": {
          "base_uri": "https://localhost:8080/"
        },
        "id": "nXKV3avXLG6d",
        "outputId": "fa0f96c0-0448-43b8-ec13-471fdfdf4f78"
      },
      "execution_count": 32,
      "outputs": [
        {
          "output_type": "stream",
          "name": "stdout",
          "text": [
            "Model saved successfully!\n"
          ]
        }
      ]
    },
    {
      "cell_type": "code",
      "source": [
        "import seaborn as sns\n",
        "import matplotlib.pyplot as plt\n",
        "from sklearn.metrics import confusion_matrix\n",
        "\n",
        "# Generate the confusion matrix\n",
        "cm = confusion_matrix(y_test, preds)\n",
        "\n",
        "# Plot the confusion matrix using seaborn heatmap\n",
        "plt.figure(figsize=(8, 6))\n",
        "sns.heatmap(cm, annot=True, fmt='d', cmap='Blues', xticklabels=['Class 0', 'Class 1'], yticklabels=['Class 0', 'Class 1'])\n",
        "plt.title('Confusion Matrix')\n",
        "plt.xlabel('Predicted')\n",
        "plt.ylabel('Actual')\n",
        "plt.show()"
      ],
      "metadata": {
        "colab": {
          "base_uri": "https://localhost:8080/",
          "height": 564
        },
        "id": "qNHWmONdLdqc",
        "outputId": "117261d6-9399-4d97-ba20-566e8c9ab63a"
      },
      "execution_count": 35,
      "outputs": [
        {
          "output_type": "display_data",
          "data": {
            "text/plain": [
              "<Figure size 800x600 with 2 Axes>"
            ],
            "image/png": "[encoded data removed]"
          },
          "metadata": {}
        }
      ]
    },
    {
      "cell_type": "code",
      "source": [
        "from sklearn.metrics import classification_report\n",
        "\n",
        "# Print classification report\n",
        "print(classification_report(y_test, preds))"
      ],
      "metadata": {
        "colab": {
          "base_uri": "https://localhost:8080/"
        },
        "id": "KYVIK_3LLgT8",
        "outputId": "9d59df1f-d1a7-4670-f066-754439975b51"
      },
      "execution_count": 34,
      "outputs": [
        {
          "output_type": "stream",
          "name": "stdout",
          "text": [
            "              precision    recall  f1-score   support\n",
            "\n",
            "           0       0.85      0.84      0.85       200\n",
            "           1       0.85      0.85      0.85       200\n",
            "\n",
            "    accuracy                           0.85       400\n",
            "   macro avg       0.85      0.85      0.85       400\n",
            "weighted avg       0.85      0.85      0.85       400\n",
            "\n"
          ]
        }
      ]
    }
  ]
}